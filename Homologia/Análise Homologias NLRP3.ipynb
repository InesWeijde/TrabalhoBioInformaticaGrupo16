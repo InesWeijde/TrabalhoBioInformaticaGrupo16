{
 "cells": [
  {
   "cell_type": "code",
   "execution_count": 1,
   "id": "a712308e",
   "metadata": {},
   "outputs": [],
   "source": [
    "from Bio.Blast import NCBIXML \n",
    "from Bio.Blast import NCBIWWW \n",
    "from Bio import SeqIO"
   ]
  },
  {
   "cell_type": "code",
   "execution_count": 2,
   "id": "e96745c2",
   "metadata": {},
   "outputs": [
    {
     "name": "stdout",
     "output_type": "stream",
     "text": [
      "1036\n"
     ]
    }
   ],
   "source": [
    "seq_nlrp3 = SeqIO.read(open(\"nlrp3.txt\"),format=\"fasta\")\n",
    "print (len(seq_nlrp3.seq)) #usa-se a sequência da proteína"
   ]
  },
  {
   "cell_type": "markdown",
   "id": "44e3e417",
   "metadata": {},
   "source": [
    "#### Genes Homologos"
   ]
  },
  {
   "cell_type": "code",
   "execution_count": null,
   "id": "0260a1c5",
   "metadata": {
    "scrolled": true
   },
   "outputs": [],
   "source": [
    "res = NCBIWWW.qblast(\"blastp\", \"swissprot\", seq_nlrp3.format(\"fasta\"))"
   ]
  },
  {
   "cell_type": "code",
   "execution_count": null,
   "id": "070ecd4a",
   "metadata": {},
   "outputs": [],
   "source": [
    "save_file = open(\"nlrp3_Blast.xml\", \"w\")\n",
    "save_file.write(res.read()) \n",
    "save_file.close() \n",
    "res.close()"
   ]
  },
  {
   "cell_type": "code",
   "execution_count": null,
   "id": "ee0eac76",
   "metadata": {},
   "outputs": [],
   "source": [
    "result_handle = open(\"nlrp3_Blast.xml\")\n",
    "record = NCBIXML.read(result_handle)"
   ]
  },
  {
   "cell_type": "code",
   "execution_count": null,
   "id": "ff1a8460",
   "metadata": {},
   "outputs": [],
   "source": [
    "print (\"PARAMETERS:\")\n",
    "print (\"Database: \" + record.database)\n",
    "print (\"Matrix: \" + record.matrix)\n",
    "print (\"Gap penalties: \", record.gap_penalties)"
   ]
  },
  {
   "cell_type": "code",
   "execution_count": null,
   "id": "510c344a",
   "metadata": {},
   "outputs": [],
   "source": [
    "result_handle2 = open(\"nlrp3_Blast.xml\")\n",
    "record2 = NCBIXML.read(result_handle2)\n",
    "\n",
    "first_alignment = record2.alignments[0]\n",
    "\n",
    "print (f\"Accession: {first_alignment.accession}\")\n",
    "print (f\"Hit id: {first_alignment.hit_id}\")\n",
    "print (f\"Definition: {first_alignment.hit_def}\")\n",
    "\n",
    "print (f\"Number of HSPs: {len(first_alignment.hsps)}\")\n",
    "\n",
    "for hsp in first_alignment.hsps:\n",
    "    print (f\"E-value: {hsp.expect}\")\n",
    "    print (f\"Length: {hsp.align_length}\")\n",
    "    print (f\"Identities: {hsp.identities}\")\n",
    "    print (f\"Query start: {hsp.query_start}\")\n",
    "    print (f\"Sbjct start: {hsp.sbjct_start}\")\n",
    "    print (hsp.query[0:1036])\n",
    "    print (hsp.match[0:1036])\n",
    "    print (hsp.sbjct[0:1036])\n",
    "    print (\"\")"
   ]
  },
  {
   "cell_type": "code",
   "execution_count": null,
   "id": "1b63ed08",
   "metadata": {},
   "outputs": [],
   "source": []
  }
 ],
 "metadata": {
  "kernelspec": {
   "display_name": "Python 3 (ipykernel)",
   "language": "python",
   "name": "python3"
  },
  "language_info": {
   "codemirror_mode": {
    "name": "ipython",
    "version": 3
   },
   "file_extension": ".py",
   "mimetype": "text/x-python",
   "name": "python",
   "nbconvert_exporter": "python",
   "pygments_lexer": "ipython3",
   "version": "3.11.5"
  }
 },
 "nbformat": 4,
 "nbformat_minor": 5
}
