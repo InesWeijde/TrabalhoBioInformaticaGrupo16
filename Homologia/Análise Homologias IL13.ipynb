{
 "cells": [
  {
   "cell_type": "code",
   "execution_count": 1,
   "id": "75938ba3",
   "metadata": {},
   "outputs": [],
   "source": [
    "from Bio.Blast import NCBIXML \n",
    "from Bio.Blast import NCBIWWW \n",
    "from Bio import SeqIO"
   ]
  },
  {
   "cell_type": "code",
   "execution_count": 2,
   "id": "fcdbdb72",
   "metadata": {},
   "outputs": [
    {
     "name": "stdout",
     "output_type": "stream",
     "text": [
      "146\n"
     ]
    }
   ],
   "source": [
    "seq_il13 = SeqIO.read(open(\"il13.txt\"),format=\"fasta\") #il13 é a sequência de proteína disponível no website UniProt\n",
    "print (len(seq_il13.seq)) #usa-se a sequência da proteína"
   ]
  },
  {
   "cell_type": "markdown",
   "id": "8f946f62",
   "metadata": {},
   "source": [
    "#### Genes Homologos"
   ]
  },
  {
   "cell_type": "code",
   "execution_count": 3,
   "id": "7326f55f",
   "metadata": {},
   "outputs": [],
   "source": [
    "res = NCBIWWW.qblast(\"blastp\", \"swissprot\", seq_il13.format(\"fasta\"))"
   ]
  },
  {
   "cell_type": "code",
   "execution_count": 4,
   "id": "4e701c4b",
   "metadata": {},
   "outputs": [],
   "source": [
    "save_file = open(\"il13_Blast.xml\", \"w\")\n",
    "save_file.write(res.read()) \n",
    "save_file.close() \n",
    "res.close()"
   ]
  },
  {
   "cell_type": "code",
   "execution_count": 5,
   "id": "b6522d04",
   "metadata": {},
   "outputs": [],
   "source": [
    "result_handle = open(\"il13_Blast.xml\")\n",
    "record = NCBIXML.read(result_handle)"
   ]
  },
  {
   "cell_type": "code",
   "execution_count": 6,
   "id": "2ba6030d",
   "metadata": {},
   "outputs": [
    {
     "name": "stdout",
     "output_type": "stream",
     "text": [
      "PARAMETERS:\n",
      "Database: swissprot\n",
      "Matrix: BLOSUM62\n",
      "Gap penalties:  (11, 1)\n"
     ]
    }
   ],
   "source": [
    "print (\"PARAMETERS:\")\n",
    "print (\"Database: \" + record.database)\n",
    "print (\"Matrix: \" + record.matrix)\n",
    "print (\"Gap penalties: \", record.gap_penalties)"
   ]
  },
  {
   "cell_type": "code",
   "execution_count": 8,
   "id": "52ad8cdf",
   "metadata": {},
   "outputs": [
    {
     "name": "stdout",
     "output_type": "stream",
     "text": [
      "Accession: P35225\n",
      "Hit id: sp|P35225.2|\n",
      "Definition: RecName: Full=Interleukin-13; Short=IL-13; Flags: Precursor [Homo sapiens]\n",
      "Number of HSPs: 1\n",
      "E-value: 1.69319e-104\n",
      "Length: 146\n",
      "Identities: 146\n",
      "Query start: 1\n",
      "Sbjct start: 1\n",
      "MHPLLNPLLLALGLMALLLTTVIALTCLGGFASPGPVPPSTALRELIEELVNITQNQKAPLCNGSMVWSINLTAGMYCAALESLINVSGCSAIEKTQRMLSGFCPHKVSAGQFSSLHVRDTKIEVAQFVKDLLLHLKKLFREGRFN\n",
      "MHPLLNPLLLALGLMALLLTTVIALTCLGGFASPGPVPPSTALRELIEELVNITQNQKAPLCNGSMVWSINLTAGMYCAALESLINVSGCSAIEKTQRMLSGFCPHKVSAGQFSSLHVRDTKIEVAQFVKDLLLHLKKLFREGRFN\n",
      "MHPLLNPLLLALGLMALLLTTVIALTCLGGFASPGPVPPSTALRELIEELVNITQNQKAPLCNGSMVWSINLTAGMYCAALESLINVSGCSAIEKTQRMLSGFCPHKVSAGQFSSLHVRDTKIEVAQFVKDLLLHLKKLFREGRFN\n",
      "\n"
     ]
    }
   ],
   "source": [
    "result_handle2 = open(\"il13_Blast.xml\")\n",
    "record2 = NCBIXML.read(result_handle2)\n",
    "\n",
    "first_alignment = record2.alignments[0]\n",
    "\n",
    "print (f\"Accession: {first_alignment.accession}\")\n",
    "print (f\"Hit id: {first_alignment.hit_id}\")\n",
    "print (f\"Definition: {first_alignment.hit_def}\")\n",
    "\n",
    "print (f\"Number of HSPs: {len(first_alignment.hsps)}\")\n",
    "\n",
    "for hsp in first_alignment.hsps:\n",
    "    print (f\"E-value: {hsp.expect}\")\n",
    "    print (f\"Length: {hsp.align_length}\")\n",
    "    print (f\"Identities: {hsp.identities}\")\n",
    "    print (f\"Query start: {hsp.query_start}\")\n",
    "    print (f\"Sbjct start: {hsp.sbjct_start}\")\n",
    "    print (hsp.query[0:146])\n",
    "    print (hsp.match[0:146])\n",
    "    print (hsp.sbjct[0:146])\n",
    "    print (\"\")"
   ]
  },
  {
   "cell_type": "code",
   "execution_count": null,
   "id": "d3a7d340",
   "metadata": {},
   "outputs": [],
   "source": []
  }
 ],
 "metadata": {
  "kernelspec": {
   "display_name": "Python 3 (ipykernel)",
   "language": "python",
   "name": "python3"
  },
  "language_info": {
   "codemirror_mode": {
    "name": "ipython",
    "version": 3
   },
   "file_extension": ".py",
   "mimetype": "text/x-python",
   "name": "python",
   "nbconvert_exporter": "python",
   "pygments_lexer": "ipython3",
   "version": "3.11.5"
  }
 },
 "nbformat": 4,
 "nbformat_minor": 5
}
